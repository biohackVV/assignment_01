{
 "cells": [
  {
   "cell_type": "markdown",
   "metadata": {},
   "source": [
    "# <u>Limitations of Classical Statistics</u>\n",
    "\n",
    "## Assignment #1 for PH290: Targeted Learning in Biomedical Big Data\n",
    "## Due Friday, 16 February 2018 at 3:00pm PDT\n",
    "## Nima Hejazi and Mark van der Laan, Group in Biostatistics\n",
    "### _(Attribution: based on materials by David Benkeser and Wilson Cai)_"
   ]
  },
  {
   "cell_type": "markdown",
   "metadata": {},
   "source": [
    "# I. Model misspecification\n",
    "The first exercise illustrates the effect of misspecification of a parametric model on inference about the effect of a treatment $A$ on an outcome $Y$. Consider the setting that the observed data consist of $n$ i.i.d. copies of $O = (W,A,Y)$, where\n",
    "$$W \\sim Uniform\\left( {0,1} \\right)$$\n",
    "\n",
    "$$A \\sim  Bernoulli(expit[1/12 + (W - 1/2)^2])$$\n",
    "\n",
    "$$Y \\sim Bernoulli(expit[(W - 1/2)^2)]) \\ , $$\n",
    "\n",
    "where $expit(x) = exp(x)/[1+exp(x)]$. \n",
    "\n",
    "Suppose we are interested in the parameter\n",
    "$$ \\psi_0(W) = \\frac{P(Y=1 \\mid A=1, W)/[1-P(Y=1 \\mid A=1, W)]}{P(Y=1 \\mid A=0, W)/[1-P(Y=1 \\mid A=0, W)]} \\ , $$\n",
    "which is the ratio of the odds of the outcome $Y$ comparing $A=1$ to $A=0$ conditional on $W$. Suppose we know that this parameter is actually constant in \n",
    "$W$ so we can write $\\psi_0 = \\psi_0(W)$. \n",
    "\n",
    "Your \"Statistics for Dummies\" book recommends you use a main terms logistic\n",
    "regression model, which assumes that \n",
    "\n",
    "$$ P(Y=1 \\mid A, W) = expit[\\beta_0 + \\beta_1 A + \\beta_2 W ] $$\n",
    "\n",
    "for some unknown parameter $\\beta = (\\beta_0, \\beta_1, \\beta_2)$. "
   ]
  },
  {
   "cell_type": "markdown",
   "metadata": {},
   "source": [
    "__(1) Show that if the assumed logistic regression model is true then $\\psi_0 = exp(\\beta_1)$.__"
   ]
  },
  {
   "cell_type": "markdown",
   "metadata": {},
   "source": [
    "so we assume the above regresion model equations is represented by  B0+ B1*1+ B2*W"
   ]
  },
  {
   "cell_type": "code",
   "execution_count": 2,
   "metadata": {
    "collapsed": true
   },
   "outputs": [],
   "source": [
    Odds_Py1a1 <-exp( (B0+ B1*1+ B2*W) - (-BO +B1*A + B2*W)  )
 Odds_Py1a0 <-exp( (B0+ B1*0+ B2*W) - (-BO +B1*0 + B2*W)  )
phi_o_W <- exp( Odds_Py1a1 - Odds_Py1a0) 
# Replacing and Simplifying 
phi_o_W <-exp(B0)
   ]
  },
  {
   "cell_type": "markdown",
   "metadata": {},
   "source": [
    "__(2) The logistic regression model is in fact incorrect, so what is the true value of $\\psi_0$?__"
   ]
  },
  {
   "cell_type": "markdown",
   "metadata": {},
   "source": [
    "INSERT EXPOSITION HERE."
   ]
  },
  {
   "cell_type": "code",
   "execution_count": 1,
   "metadata": {
    "collapsed": true
   },
   "outputs": [],
   "source": [
    "# INSERT CODE HERE."
   ]
  },
  {
   "cell_type": "markdown",
   "metadata": {},
   "source": [
    "__(3) What is the value of $\\beta_{1,0}$, the limit of the maximum likelihood estimator $\\beta_{1,n}$ of $\\beta_1$? (numerical approximation is ok)__"
   ]
  },
  {
   "cell_type": "markdown",
   "metadata": {},
   "source": [
    "INSERT EXPOSITION HERE."
   ]
  },
  {
   "cell_type": "code",
   "execution_count": 3,
   "metadata": {
    "collapsed": true
   },
   "outputs": [],
   "source": [
    "# INSERT CODE HERE."
   ]
  },
  {
   "cell_type": "markdown",
   "metadata": {},
   "source": [
    "__(4) Design a simulation study to determine the type-1 error of the nominal level $0.05$ Wald-style test of the null hypothesis that $\\psi_0 = 1$ that rejects the null hypothesis whenever $\\mid \\beta_{1,n}/\\hat{se}_{\\beta,1,n}\\mid > 1.96$ (the default test performed by `glm`). Assess the type-1 error at sample sizes $n=100,1000,10000$.__"
   ]
  },
  {
   "cell_type": "markdown",
   "metadata": {},
   "source": [
    "INSERT EXPOSITION HERE. X<-rnorm(0,1)"
   ]
  },
  {
   "cell_type": "code",
   "execution_count": 4,
   "metadata": {
    "collapsed": true
   },
   "outputs": [],
   "source": [
    "# INSERT CODE HERE."
   ]
  },
  {
   "cell_type": "markdown",
   "metadata": {},
   "source": [
    "__(5) Comment on your findings.__"
   ]
  },
  {
   "cell_type": "markdown",
   "metadata": {},
   "source": [
    "INSERT EXPOSITION HERE."
   ]
  },
  {
   "cell_type": "markdown",
   "metadata": {},
   "source": [
    "# II. R Package Development\n",
    "\n",
    "Throughout this course, we will be programming using the [R language and environment for statistical computing](). A core construct in R is the __R package__, a structure that provides an organized mechanism through which to develop and disseminate code that you produce. R packages range widely in both scope and function -- you've already seen that some provide incredible new functionality (e.g., `ggpot2`'s implementation of the Grammar of Graphics), but not all packages need to be so complex. In this exercise, we will examine some principles of R package development and write a small package to practice what we've learned."
   ]
  },
  {
   "cell_type": "markdown",
   "metadata": {},
   "source": [
    "__(1) Explore Karl Broman's [\"R Package Primer\"](http://kbroman.org/pkg_primer/), and take brief notes on what you've learned about R packages from this reading.__ Suggested topics for note-taking include the following:\n",
    "* What are the minimal files and directory structure necessary for an R package to build properly?\n",
    "* How can R packages and functions be made to interface with functions from other packages?\n",
    "* What are unit tests and how do these play an important role in ensuring the reliability of code?\n",
    "\n",
    "(You need not answer exactly these questions, but your notes should be detailed and on important topics covered in the tutorial).\n",
    "\n",
    "For a far more detailed discussion of R package structure, consider looking through Hadley Wickham's book [_R Packages_](http://r-pkgs.had.co.nz/) (free online)."
   ]
  },
  {
   "cell_type": "markdown",
   "metadata": {},
   "source": [
    "INSERT EXPOSITION HERE."
   ]
  },
  {
   "cell_type": "markdown",
   "metadata": {},
   "source": [
    "__(2) Let's build an R package! The skeleton of a package has been provided for you in the directory `minpkg`.__ Look through the contents of that package and implement the contents of the following files:\n",
    "* R/sim_data.R\n",
    "* R/compute_psi.R\n",
    "* R/plot_psi.R\n",
    "* DESCRIPTION\n",
    "\n",
    "Once you're done, you can check whether you've implemented everything correctly by running a check on the package, as given below.\n",
    "\n",
    "***\n",
    "While you're developing your package, be sure to use version control with `git`. As you make changes that you are satisfied with, you may use `git add .` to add files for staging, and `git commit -m 'INSERT DESCRIPTIVE MESSAGE HERE'` to commit your changes to the project history. If you are unfamiliar with `git` and version control, you may find the resources on the course website helpful.\n",
    "***"
   ]
  },
  {
   "cell_type": "code",
   "execution_count": null,
   "metadata": {
    "collapsed": true
   },
   "outputs": [],
   "source": [
    "# to check whether the package passes minimal rules and tests, run the following\n",
    "devtools::check(\"minpkg\")"
   ]
  },
  {
   "cell_type": "code",
   "execution_count": null,
   "metadata": {
    "collapsed": true
   },
   "outputs": [],
   "source": [
    "# to build a package tarball (i.e., .tar.gz), run the following\n",
    "devtools::build(\"minpkg\")"
   ]
  },
  {
   "cell_type": "markdown",
   "metadata": {},
   "source": [
    "__(3) Write a short vignette for your new R package `minpkg`, explaining how to use each of the functions that you have written, and providing a short demonstration of how to use the functions in the package to produce calculations and visualizations similar to those produced for Part 1 above.__\n",
    "\n",
    "Resources:\n",
    "* http://r-pkgs.had.co.nz/vignettes.html\n",
    "* http://kbroman.org/pkg_primer/pages/vignettes.html\n",
    "* Practically any R package you find on GitHub will have sufficient documentation (including a vignette), so taking a look at these as examples is probably not a bad idea."
   ]
  }
 ],
 "metadata": {
  "kernelspec": {
   "display_name": "R",
   "language": "R",
   "name": "ir"
  },
  "language_info": {
   "codemirror_mode": "r",
   "file_extension": ".r",
   "mimetype": "text/x-r-source",
   "name": "R",
   "pygments_lexer": "r",
   "version": "3.4.3"
  }
 },
 "nbformat": 4,
 "nbformat_minor": 2
}
